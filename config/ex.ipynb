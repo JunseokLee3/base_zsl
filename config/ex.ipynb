{
 "cells": [
  {
   "cell_type": "code",
   "execution_count": null,
   "metadata": {},
   "outputs": [],
   "source": [
    "import yaml"
   ]
  },
  {
   "cell_type": "code",
   "execution_count": null,
   "metadata": {},
   "outputs": [],
   "source": [
    "cofig_path = 'config/CUB_GZSL.yaml'\n",
    "with open('CUB_GZSL.yaml') as f:\n",
    "    config = yaml.load(f,Loader=yaml.FullLoader)"
   ]
  }
 ],
 "metadata": {
  "kernelspec": {
   "display_name": "Python 3.9.12 ('base')",
   "language": "python",
   "name": "python3"
  },
  "language_info": {
   "name": "python",
   "version": "3.9.12"
  },
  "orig_nbformat": 4,
  "vscode": {
   "interpreter": {
    "hash": "01c817a27fda7fecee45590316d70e838dd73160d15b886db9e13cd77b328640"
   }
  }
 },
 "nbformat": 4,
 "nbformat_minor": 2
}
